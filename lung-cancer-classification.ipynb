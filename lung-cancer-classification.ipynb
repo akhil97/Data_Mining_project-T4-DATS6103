{
 "cells": [
  {
   "cell_type": "code",
   "execution_count": null,
   "metadata": {},
   "outputs": [],
   "source": []
  }
 ],
 "metadata": {
  "kernelspec": {
   "display_name": "Python 3.9.12 ('base')",
   "language": "python",
   "name": "python3"
  },
  "language_info": {
   "name": "python",
   "version": "3.9.12"
  },
  "orig_nbformat": 4,
  "vscode": {
   "interpreter": {
    "hash": "42a1cd04e3876d06a373531abd62d4b1de0b44516412ff1d1811499cb8f1f183"
   }
  }
 },
 "nbformat": 4,
 "nbformat_minor": 2
}
